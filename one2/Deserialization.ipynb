{
 "cells": [
  {
   "cell_type": "markdown",
   "id": "212a5bb6",
   "metadata": {},
   "source": [
    "# Productionisation (Model Deserialization)\n"
   ]
  },
  {
   "cell_type": "code",
   "execution_count": 1,
   "id": "63b453c0",
   "metadata": {},
   "outputs": [],
   "source": [
    "import numpy as np\n",
    "from pickle import load"
   ]
  },
  {
   "cell_type": "code",
   "execution_count": 2,
   "id": "9c9ca590",
   "metadata": {},
   "outputs": [],
   "source": [
    "# Loading pretrained classifiers from pickle file\n",
    "\n",
    "scaler = load(open('models/standard_scaler.pkl', 'rb'))\n",
    "knn_classifier = load(open('models/knn_model.pkl', 'rb'))\n",
    "lr_classifier = load(open('models/lr_model.pkl', 'rb'))\n",
    "nb_classifier = load(open('models/nb_model.pkl', 'rb'))\n",
    "dt_classifier = load(open('models/dt_model.pkl', 'rb'))\n",
    "sv_classifier = load(open('models/sv_model.pkl', 'rb'))"
   ]
  },
  {
   "cell_type": "code",
   "execution_count": 3,
   "id": "b42f10dd",
   "metadata": {},
   "outputs": [
    {
     "data": {
      "text/plain": [
       "'\\nprint(\"Enter Wine Quality Details\")\\nva = float(input(\\'Enter the volatile acidity: \\'))\\nca = float(input(\\'Enter the citric acid: \\'))\\nsd = float(input(\\'Enter the total sulfur dioxide: \\'))\\nsu = float(input(\\'Enter the sulphates: \\'))\\nal = float(input(\\'Enter the alcohol: \\'))'"
      ]
     },
     "execution_count": 3,
     "metadata": {},
     "output_type": "execute_result"
    }
   ],
   "source": [
    "# Read the Query Data\n",
    "\"\"\"\n",
    "print(\"Enter Wine Quality Details\")\n",
    "va = float(input('Enter the volatile acidity: '))\n",
    "ca = float(input('Enter the citric acid: '))\n",
    "sd = float(input('Enter the total sulfur dioxide: '))\n",
    "su = float(input('Enter the sulphates: '))\n",
    "al = float(input('Enter the alcohol: '))\"\"\""
   ]
  },
  {
   "cell_type": "code",
   "execution_count": 4,
   "id": "82ee9b55",
   "metadata": {},
   "outputs": [],
   "source": [
    "#scaler.transform([va,ca,sd,su,al])\n"
   ]
  },
  {
   "cell_type": "code",
   "execution_count": 5,
   "id": "e029763f",
   "metadata": {},
   "outputs": [],
   "source": [
    "#knn_classifier.predict([va,ca,sd,su,al])\n"
   ]
  },
  {
   "cell_type": "markdown",
   "id": "d5b3d31b",
   "metadata": {},
   "source": [
    "# Converting the values to 2D Array\n"
   ]
  },
  {
   "cell_type": "code",
   "execution_count": 6,
   "id": "6d0916bb",
   "metadata": {},
   "outputs": [],
   "source": [
    "#query_point = np.array([va,ca,sd,su,al])\n"
   ]
  },
  {
   "cell_type": "code",
   "execution_count": 7,
   "id": "8f1c5d99",
   "metadata": {},
   "outputs": [],
   "source": [
    "#query_point\n"
   ]
  },
  {
   "cell_type": "code",
   "execution_count": 8,
   "id": "374602b6",
   "metadata": {},
   "outputs": [],
   "source": [
    "#query_point.reshape(1, -1)\n"
   ]
  },
  {
   "cell_type": "code",
   "execution_count": 9,
   "id": "fb211bba",
   "metadata": {},
   "outputs": [],
   "source": [
    "#query_point = query_point.reshape(1, -1)\n",
    "\n",
    "#query_point"
   ]
  },
  {
   "cell_type": "code",
   "execution_count": 10,
   "id": "8adeb364",
   "metadata": {},
   "outputs": [],
   "source": [
    "#query_point_transformed = scaler.transform(query_point)\n",
    "\n",
    "#query_point_transformed"
   ]
  },
  {
   "cell_type": "code",
   "execution_count": 11,
   "id": "3d437c74",
   "metadata": {},
   "outputs": [],
   "source": [
    "#knn_classifier.predict(query_point_transformed)\n"
   ]
  },
  {
   "cell_type": "code",
   "execution_count": 12,
   "id": "9280ccfd",
   "metadata": {},
   "outputs": [],
   "source": [
    "#lr_classifier.predict(query_point_transformed)\n"
   ]
  },
  {
   "cell_type": "code",
   "execution_count": 13,
   "id": "c536523a",
   "metadata": {},
   "outputs": [],
   "source": [
    "#nb_classifier.predict(query_point_transformed)\n"
   ]
  },
  {
   "cell_type": "code",
   "execution_count": 14,
   "id": "c31f4573",
   "metadata": {},
   "outputs": [],
   "source": [
    "#dt_classifier.predict(query_point_transformed)\n"
   ]
  },
  {
   "cell_type": "code",
   "execution_count": 15,
   "id": "d8ec8fe8",
   "metadata": {},
   "outputs": [],
   "source": [
    "#sv_classifier.predict(query_point_transformed)\n"
   ]
  },
  {
   "cell_type": "markdown",
   "id": "ce6db049",
   "metadata": {},
   "source": [
    "# Production Ready Code\n"
   ]
  },
  {
   "cell_type": "code",
   "execution_count": 16,
   "id": "168ef878",
   "metadata": {},
   "outputs": [
    {
     "name": "stdout",
     "output_type": "stream",
     "text": [
      "Enter Wine Quality Details\n"
     ]
    }
   ],
   "source": [
    "\n",
    "print(\"Enter Wine Quality Details\")\n",
    "va = float(input('Enter the volatile acidity: '))\n",
    "ca = float(input('Enter the citric acid: '))\n",
    "sd = float(input('Enter the total sulfur dioxide: '))\n",
    "su = float(input('Enter the sulphates: '))\n",
    "al = float(input('Enter the alcohol: '))\n",
    "\n",
    "query_point = np.array([va,ca,sd,su,al]).reshape(1, -1)\n",
    "\n",
    "query_point_transformed = scaler.transform(query_point)\n",
    "\n",
    "knn_classifier.predict(query_point_transformed)\n"
   ]
  },
  {
   "cell_type": "code",
   "execution_count": null,
   "id": "d4dd07ca",
   "metadata": {},
   "outputs": [],
   "source": []
  },
  {
   "cell_type": "code",
   "execution_count": null,
   "id": "cf55f9f5",
   "metadata": {},
   "outputs": [],
   "source": []
  },
  {
   "cell_type": "code",
   "execution_count": null,
   "id": "772eb0c3",
   "metadata": {},
   "outputs": [],
   "source": []
  },
  {
   "cell_type": "code",
   "execution_count": null,
   "id": "403f7819",
   "metadata": {},
   "outputs": [],
   "source": []
  }
 ],
 "metadata": {
  "kernelspec": {
   "display_name": "Python 3 (ipykernel)",
   "language": "python",
   "name": "python3"
  },
  "language_info": {
   "codemirror_mode": {
    "name": "ipython",
    "version": 3
   },
   "file_extension": ".py",
   "mimetype": "text/x-python",
   "name": "python",
   "nbconvert_exporter": "python",
   "pygments_lexer": "ipython3",
   "version": "3.9.0"
  }
 },
 "nbformat": 4,
 "nbformat_minor": 5
}
